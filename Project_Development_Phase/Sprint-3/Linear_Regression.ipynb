{
 "cells": [
  {
   "cell_type": "markdown",
   "id": "d814bd01",
   "metadata": {},
   "source": [
    "# Separating Independent And Dependent Variables"
   ]
  },
  {
   "cell_type": "code",
   "execution_count": 1,
   "id": "f05263ec",
   "metadata": {},
   "outputs": [],
   "source": [
    "from sklearn.model_selection import train_test_split\n",
    "from sklearn.linear_model import LinearRegression\n",
    "l=LinearRegression()"
   ]
  },
  {
   "cell_type": "code",
   "execution_count": null,
   "id": "7c954c8a",
   "metadata": {},
   "outputs": [],
   "source": [
    "x=data.drop(['consume','gas_type'],axis=1)"
   ]
  },
  {
   "cell_type": "code",
   "execution_count": null,
   "id": "1e4b214b",
   "metadata": {},
   "outputs": [],
   "source": [
    "x.columns"
   ]
  },
  {
   "cell_type": "code",
   "execution_count": null,
   "id": "ffa11da5",
   "metadata": {},
   "outputs": [],
   "source": [
    "x=x.values\n",
    "y=y.values"
   ]
  },
  {
   "cell_type": "markdown",
   "id": "619006b3",
   "metadata": {},
   "source": [
    "# Splitting Data Into Train And Test"
   ]
  },
  {
   "cell_type": "code",
   "execution_count": null,
   "id": "b283ff77",
   "metadata": {},
   "outputs": [],
   "source": [
    "x_train,x_test,y_train,y_test=train_test_split(x,y,test_size=0.3,random_state=42)"
   ]
  },
  {
   "cell_type": "markdown",
   "id": "d1197df5",
   "metadata": {},
   "source": [
    "# Applying Linear Regression"
   ]
  },
  {
   "cell_type": "code",
   "execution_count": null,
   "id": "3add726b",
   "metadata": {},
   "outputs": [],
   "source": [
    "l.fit(x_train,y_train)"
   ]
  },
  {
   "cell_type": "code",
   "execution_count": null,
   "id": "f10ebe13",
   "metadata": {},
   "outputs": [],
   "source": [
    "x_train.shape"
   ]
  },
  {
   "cell_type": "code",
   "execution_count": null,
   "id": "6313d62d",
   "metadata": {},
   "outputs": [],
   "source": [
    "y_pred=l.predict(x_test)"
   ]
  },
  {
   "cell_type": "code",
   "execution_count": null,
   "id": "8248f91b",
   "metadata": {},
   "outputs": [],
   "source": [
    "print(l.coef_,l.intercept_)"
   ]
  },
  {
   "cell_type": "code",
   "execution_count": null,
   "id": "472e3f46",
   "metadata": {},
   "outputs": [],
   "source": [
    "from sklearn import metrics\n",
    "print(metrics.mean_squared_error(y_test,y_pred))\n",
    "print(metrics.mean_absolute_error(y_test,y_pred))\n",
    "print(np.sqrt(metrics.mean_squared_error(y_test,y_pred)))"
   ]
  },
  {
   "cell_type": "code",
   "execution_count": null,
   "id": "bf85e6e5",
   "metadata": {},
   "outputs": [],
   "source": [
    "dum1=pd.get_dummies(data['gas_type'])\n",
    "print(dum1)"
   ]
  },
  {
   "cell_type": "code",
   "execution_count": null,
   "id": "6e3fc273",
   "metadata": {},
   "outputs": [],
   "source": [
    "data=pd.concat([data,dum1],axis=1)"
   ]
  },
  {
   "cell_type": "code",
   "execution_count": null,
   "id": "5e5b90c8",
   "metadata": {},
   "outputs": [],
   "source": [
    "data.drop('gas_type',axis=1,inplace=True)"
   ]
  },
  {
   "cell_type": "code",
   "execution_count": null,
   "id": "212d7e3a",
   "metadata": {},
   "outputs": [],
   "source": [
    "x1=data.drop('consume',axis=1)"
   ]
  },
  {
   "cell_type": "code",
   "execution_count": null,
   "id": "e369fe76",
   "metadata": {},
   "outputs": [],
   "source": [
    "y1=data['consume']"
   ]
  },
  {
   "cell_type": "code",
   "execution_count": null,
   "id": "1f4a1de1",
   "metadata": {},
   "outputs": [],
   "source": [
    "x1.columns"
   ]
  },
  {
   "cell_type": "code",
   "execution_count": null,
   "id": "f43f3e0f",
   "metadata": {},
   "outputs": [],
   "source": [
    "x1=x1.values\n",
    "y1=y1.values"
   ]
  },
  {
   "cell_type": "code",
   "execution_count": null,
   "id": "69c974db",
   "metadata": {},
   "outputs": [],
   "source": [
    "from sklearn.model_selection import train_test_split\n",
    "from sklearn.linear_model import LinearRegression\n",
    "l=LinearRegression()\n",
    "x_train,x_test,y_train,y_test=train_test_split(x1,y1,test_size=0.3,random_state=42)"
   ]
  },
  {
   "cell_type": "code",
   "execution_count": null,
   "id": "4372e74e",
   "metadata": {},
   "outputs": [],
   "source": [
    "l.fit(x_train,y_train)"
   ]
  },
  {
   "cell_type": "code",
   "execution_count": null,
   "id": "e36e855c",
   "metadata": {},
   "outputs": [],
   "source": [
    "y_pred_1=l.predict(x_test)\n",
    "print(y_pred_1)"
   ]
  },
  {
   "cell_type": "code",
   "execution_count": null,
   "id": "e1302542",
   "metadata": {},
   "outputs": [],
   "source": [
    "from sklearn import metrics\n",
    "print(np.sqrt(metrics.mean_squared_error(y_test,y_pred_1)))"
   ]
  },
  {
   "cell_type": "code",
   "execution_count": null,
   "id": "46ea17ef",
   "metadata": {},
   "outputs": [],
   "source": [
    "x_train.shape"
   ]
  },
  {
   "cell_type": "code",
   "execution_count": null,
   "id": "c0714cc6",
   "metadata": {},
   "outputs": [],
   "source": [
    "x_train[0]"
   ]
  },
  {
   "cell_type": "code",
   "execution_count": null,
   "id": "3d049d2a",
   "metadata": {},
   "outputs": [],
   "source": [
    "import joblib\n",
    "joblib.dump(l,'model.save')"
   ]
  },
  {
   "cell_type": "code",
   "execution_count": null,
   "id": "d9e7971e",
   "metadata": {},
   "outputs": [],
   "source": []
  },
  {
   "cell_type": "code",
   "execution_count": null,
   "id": "a70dbb5c",
   "metadata": {},
   "outputs": [],
   "source": []
  },
  {
   "cell_type": "code",
   "execution_count": null,
   "id": "f9aea244",
   "metadata": {},
   "outputs": [],
   "source": []
  }
 ],
 "metadata": {
  "kernelspec": {
   "display_name": "Python 3 (ipykernel)",
   "language": "python",
   "name": "python3"
  },
  "language_info": {
   "codemirror_mode": {
    "name": "ipython",
    "version": 3
   },
   "file_extension": ".py",
   "mimetype": "text/x-python",
   "name": "python",
   "nbconvert_exporter": "python",
   "pygments_lexer": "ipython3",
   "version": "3.9.12"
  }
 },
 "nbformat": 4,
 "nbformat_minor": 5
}
