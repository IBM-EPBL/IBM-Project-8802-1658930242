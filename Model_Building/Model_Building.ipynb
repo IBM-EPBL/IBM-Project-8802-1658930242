{
  "nbformat": 4,
  "nbformat_minor": 0,
  "metadata": {
    "colab": {
      "provenance": []
    },
    "kernelspec": {
      "name": "python3",
      "display_name": "Python 3"
    },
    "language_info": {
      "name": "python"
    },
    "accelerator": "GPU",
    "gpuClass": "standard"
  },
  "cells": [
    {
      "cell_type": "markdown",
      "source": [
        "SEPARATING INDEPENDENT AND DEPENDENT VARIABLES"
      ],
      "metadata": {
        "id": "iikcjpsopDk0"
      }
    },
    {
      "cell_type": "code",
      "source": [
        "import numpy as np\n",
        "import pandas as pd\n",
        "import seaborn as sns"
      ],
      "metadata": {
        "id": "wLvWN3XXqeJT"
      },
      "execution_count": 1,
      "outputs": []
    },
    {
      "cell_type": "code",
      "source": [
        "df=pd.read_excel(r\"/content/fuel consumption2 (1).xlsx\")"
      ],
      "metadata": {
        "id": "W225w6o4q1q8"
      },
      "execution_count": 3,
      "outputs": []
    },
    {
      "cell_type": "code",
      "source": [
        "print (df.head())"
      ],
      "metadata": {
        "colab": {
          "base_uri": "https://localhost:8080/"
        },
        "id": "3cS97CPJromm",
        "outputId": "3f04c26c-a651-4767-f0e7-197e8488f4c5"
      },
      "execution_count": 4,
      "outputs": [
        {
          "output_type": "stream",
          "name": "stdout",
          "text": [
            "   distance  consume  speed  temp_inside  temp_outside specials gas_type  AC  \\\n",
            "0      28.0      5.0     26         21.5            12      NaN      E10   0   \n",
            "1      12.0      4.2     30         21.5            13      NaN      E10   0   \n",
            "2      11.2      5.5     38         21.5            15      NaN      E10   0   \n",
            "3      12.9      3.9     36         21.5            14      NaN      E10   0   \n",
            "4      18.5      4.5     46         21.5            15      NaN      E10   0   \n",
            "\n",
            "   rain  sun  refill liters refill gas  \n",
            "0     0    0           45.0        E10  \n",
            "1     0    0            NaN        NaN  \n",
            "2     0    0            NaN        NaN  \n",
            "3     0    0            NaN        NaN  \n",
            "4     0    0            NaN        NaN  \n"
          ]
        }
      ]
    },
    {
      "cell_type": "code",
      "source": [
        "sns.heatmap(df.isnull())"
      ],
      "metadata": {
        "colab": {
          "base_uri": "https://localhost:8080/",
          "height": 345
        },
        "id": "Su5R6yTSrt_Z",
        "outputId": "2564b694-06d9-4d6f-dbc2-0d9dc63355b3"
      },
      "execution_count": 5,
      "outputs": [
        {
          "output_type": "execute_result",
          "data": {
            "text/plain": [
              "<matplotlib.axes._subplots.AxesSubplot at 0x7f4b9dd84b50>"
            ]
          },
          "metadata": {},
          "execution_count": 5
        },
        {
          "output_type": "display_data",
          "data": {
            "text/plain": [
              "<Figure size 432x288 with 2 Axes>"
            ],
            "image/png": "[encoded data removed]"
          },
          "metadata": {
            "needs_background": "light"
          }
        }
      ]
    },
    {
      "cell_type": "code",
      "source": [
        "df.drop(['refill gas','refill liters','specials'],axis=1,inplace=True)\n",
        "sns.heatmap(df.isnull())"
      ],
      "metadata": {
        "colab": {
          "base_uri": "https://localhost:8080/",
          "height": 345
        },
        "id": "0IRM52tpr0hd",
        "outputId": "385e2849-ca1d-4208-bb0f-4a76f477372a"
      },
      "execution_count": 6,
      "outputs": [
        {
          "output_type": "execute_result",
          "data": {
            "text/plain": [
              "<matplotlib.axes._subplots.AxesSubplot at 0x7f4b9b37d250>"
            ]
          },
          "metadata": {},
          "execution_count": 6
        },
        {
          "output_type": "display_data",
          "data": {
            "text/plain": [
              "<Figure size 432x288 with 2 Axes>"
            ],
            "image/png": "[encoded data removed]"
          },
          "metadata": {
            "needs_background": "light"
          }
        }
      ]
    },
    {
      "cell_type": "code",
      "source": [
        "temp_inside_mean=np.mean(df['temp_inside'])\n",
        "print(temp_inside_mean)"
      ],
      "metadata": {
        "colab": {
          "base_uri": "https://localhost:8080/"
        },
        "id": "7mwAFdScsYLA",
        "outputId": "781783db-cb27-443e-9bca-ee2630fc34ab"
      },
      "execution_count": 7,
      "outputs": [
        {
          "output_type": "stream",
          "name": "stdout",
          "text": [
            "21.929521276595743\n"
          ]
        }
      ]
    },
    {
      "cell_type": "code",
      "source": [
        "df['temp_inside'].fillna(temp_inside_mean,inplace=True)\n",
        "sns.heatmap(df.isnull())"
      ],
      "metadata": {
        "colab": {
          "base_uri": "https://localhost:8080/",
          "height": 345
        },
        "id": "VkHSgJqjsjva",
        "outputId": "91f014d3-fba6-483d-ad26-6809b7865633"
      },
      "execution_count": 8,
      "outputs": [
        {
          "output_type": "execute_result",
          "data": {
            "text/plain": [
              "<matplotlib.axes._subplots.AxesSubplot at 0x7f4b9ae2c3d0>"
            ]
          },
          "metadata": {},
          "execution_count": 8
        },
        {
          "output_type": "display_data",
          "data": {
            "text/plain": [
              "<Figure size 432x288 with 2 Axes>"
            ],
            "image/png": "[encoded data removed]"
          },
          "metadata": {
            "needs_background": "light"
          }
        }
      ]
    },
    {
      "cell_type": "code",
      "source": [
        "from sklearn.model_selection import train_test_split\n",
        "from sklearn.linear_model import LinearRegression\n",
        "l=LinearRegression()"
      ],
      "metadata": {
        "id": "qNfFL61_suaV"
      },
      "execution_count": 9,
      "outputs": []
    },
    {
      "cell_type": "code",
      "source": [
        "x=df.drop(['consume','gas_type'],axis=1)"
      ],
      "metadata": {
        "id": "NOx75x5ns8dK"
      },
      "execution_count": 10,
      "outputs": []
    },
    {
      "cell_type": "code",
      "source": [
        "y=df['consume']"
      ],
      "metadata": {
        "id": "-Yvt4EE0tDHB"
      },
      "execution_count": 11,
      "outputs": []
    },
    {
      "cell_type": "code",
      "source": [
        "x=x.values\n",
        "y=y.values"
      ],
      "metadata": {
        "id": "h_1yCskutLpP"
      },
      "execution_count": 12,
      "outputs": []
    },
    {
      "cell_type": "code",
      "source": [
        "x_train,x_test,y_train,y_test=train_test_split(x,y,test_size=0.3,random_state=42)"
      ],
      "metadata": {
        "id": "6nu67YS6tRqf"
      },
      "execution_count": 13,
      "outputs": []
    },
    {
      "cell_type": "code",
      "source": [
        "l.fit(x_train,y_train)"
      ],
      "metadata": {
        "colab": {
          "base_uri": "https://localhost:8080/"
        },
        "id": "EUCLItxmtcdi",
        "outputId": "c53b1bdd-1647-4ca6-cf12-824c109199d5"
      },
      "execution_count": 14,
      "outputs": [
        {
          "output_type": "execute_result",
          "data": {
            "text/plain": [
              "LinearRegression()"
            ]
          },
          "metadata": {},
          "execution_count": 14
        }
      ]
    },
    {
      "cell_type": "code",
      "source": [
        "x_train.shape"
      ],
      "metadata": {
        "colab": {
          "base_uri": "https://localhost:8080/"
        },
        "id": "iXn3Cb--tm9H",
        "outputId": "565e3555-b074-4e0d-c4dc-ad272b874f99"
      },
      "execution_count": 15,
      "outputs": [
        {
          "output_type": "execute_result",
          "data": {
            "text/plain": [
              "(271, 7)"
            ]
          },
          "metadata": {},
          "execution_count": 15
        }
      ]
    },
    {
      "cell_type": "code",
      "source": [
        "y_pred=l.predict(x_test)"
      ],
      "metadata": {
        "id": "ulT5ifg_ttYF"
      },
      "execution_count": 16,
      "outputs": []
    },
    {
      "cell_type": "code",
      "source": [
        "print(l.coef_,l.intercept_)"
      ],
      "metadata": {
        "colab": {
          "base_uri": "https://localhost:8080/"
        },
        "id": "gw1AVONPt1sg",
        "outputId": "66b409b0-6698-4c13-a7d7-d932429e101c"
      },
      "execution_count": 17,
      "outputs": [
        {
          "output_type": "stream",
          "name": "stdout",
          "text": [
            "[ 0.00523674 -0.02371772 -0.14711979 -0.03724498  0.41456804  0.61676684\n",
            " -0.06407861] 9.389308142257129\n"
          ]
        }
      ]
    },
    {
      "cell_type": "code",
      "source": [
        "from sklearn import metrics\n",
        "print(metrics.mean_squared_error(y_test,y_pred))\n",
        "print(metrics.mean_absolute_error(y_test,y_pred))\n",
        "print(np.sqrt(metrics.mean_squared_error(y_test,y_pred)))"
      ],
      "metadata": {
        "colab": {
          "base_uri": "https://localhost:8080/"
        },
        "id": "9-4ehylct8NM",
        "outputId": "f3f860d4-29d5-4fd0-8009-bc9f70bfcc05"
      },
      "execution_count": 18,
      "outputs": [
        {
          "output_type": "stream",
          "name": "stdout",
          "text": [
            "0.742453260904708\n",
            "0.6635761182069623\n",
            "0.8616572757800562\n"
          ]
        }
      ]
    },
    {
      "cell_type": "code",
      "source": [
        "dum1=pd.get_dummies(df['gas_type'])\n",
        "print(dum1)"
      ],
      "metadata": {
        "colab": {
          "base_uri": "https://localhost:8080/"
        },
        "id": "BD9lSdwOuKzi",
        "outputId": "190705f7-b8ea-4c42-fb90-a4b10551cf1c"
      },
      "execution_count": 19,
      "outputs": [
        {
          "output_type": "stream",
          "name": "stdout",
          "text": [
            "     E10  SP98\n",
            "0      1     0\n",
            "1      1     0\n",
            "2      1     0\n",
            "3      1     0\n",
            "4      1     0\n",
            "..   ...   ...\n",
            "383    0     1\n",
            "384    0     1\n",
            "385    0     1\n",
            "386    0     1\n",
            "387    0     1\n",
            "\n",
            "[388 rows x 2 columns]\n"
          ]
        }
      ]
    },
    {
      "cell_type": "code",
      "source": [
        "df=pd.concat([df,dum1],axis=1)"
      ],
      "metadata": {
        "id": "5L7ipQjPuPS4"
      },
      "execution_count": 20,
      "outputs": []
    },
    {
      "cell_type": "code",
      "source": [
        "df.drop('gas_type',axis=1,inplace=True)"
      ],
      "metadata": {
        "id": "_BIgpR5UuY03"
      },
      "execution_count": 21,
      "outputs": []
    },
    {
      "cell_type": "code",
      "source": [
        "x1=df.drop('consume',axis=1)"
      ],
      "metadata": {
        "id": "c7ke7QB1uddY"
      },
      "execution_count": 22,
      "outputs": []
    },
    {
      "cell_type": "code",
      "source": [
        "y1=df['consume']"
      ],
      "metadata": {
        "id": "He8ai1bvuj7_"
      },
      "execution_count": 23,
      "outputs": []
    },
    {
      "cell_type": "code",
      "source": [
        "x1.columns"
      ],
      "metadata": {
        "colab": {
          "base_uri": "https://localhost:8080/"
        },
        "id": "39Ab_-YlurGj",
        "outputId": "fa56f27d-7439-4d0f-ff60-0234591ac0d6"
      },
      "execution_count": 24,
      "outputs": [
        {
          "output_type": "execute_result",
          "data": {
            "text/plain": [
              "Index(['distance', 'speed', 'temp_inside', 'temp_outside', 'AC', 'rain', 'sun',\n",
              "       'E10', 'SP98'],\n",
              "      dtype='object')"
            ]
          },
          "metadata": {},
          "execution_count": 24
        }
      ]
    },
    {
      "cell_type": "code",
      "source": [
        "x1=x1.values\n",
        "y1=y1.values"
      ],
      "metadata": {
        "id": "6dXWlHAOuvVW"
      },
      "execution_count": 25,
      "outputs": []
    },
    {
      "cell_type": "code",
      "source": [
        "from sklearn.model_selection import train_test_split\n",
        "from sklearn.linear_model import LinearRegression\n",
        "l=LinearRegression()\n",
        "x_train,x_test,y_train,y_test=train_test_split(x,y,test_size=0.3,random_state=42)"
      ],
      "metadata": {
        "id": "Xm6kBdQTuzkr"
      },
      "execution_count": 26,
      "outputs": []
    },
    {
      "cell_type": "code",
      "source": [
        "l.fit(x_train,y_train)"
      ],
      "metadata": {
        "colab": {
          "base_uri": "https://localhost:8080/"
        },
        "id": "IWUkpLRMu5x7",
        "outputId": "54c71eb1-a172-468f-9690-1b8618694e17"
      },
      "execution_count": 27,
      "outputs": [
        {
          "output_type": "execute_result",
          "data": {
            "text/plain": [
              "LinearRegression()"
            ]
          },
          "metadata": {},
          "execution_count": 27
        }
      ]
    },
    {
      "cell_type": "code",
      "source": [
        "y_pred_1=l.predict(x_test)\n",
        "print(y_pred_1)"
      ],
      "metadata": {
        "colab": {
          "base_uri": "https://localhost:8080/"
        },
        "id": "fKiCv1GAu-w3",
        "outputId": "1b5a301b-b206-42da-8d50-60132983e2d7"
      },
      "execution_count": 28,
      "outputs": [
        {
          "output_type": "stream",
          "name": "stdout",
          "text": [
            "[4.74529019 5.28091233 5.11846572 5.18647684 4.56157009 5.94153804\n",
            " 5.67791213 5.1875266  5.9184726  4.89999431 4.11401843 4.81816564\n",
            " 6.55944917 4.54590356 5.15076404 5.27935583 5.56137799 5.17741341\n",
            " 5.50606796 5.30926079 4.15432495 5.25542486 4.98292477 5.18492997\n",
            " 4.91054992 4.83501281 4.6153078  4.22470594 5.13956507 3.94766814\n",
            " 4.92771037 5.2418133  4.6973807  4.6029162  5.59025114 4.99367775\n",
            " 4.60405314 4.05578834 5.13330389 6.09737077 4.43083181 5.24444636\n",
            " 5.4076802  4.4752234  4.65430171 4.33884762 5.04636663 5.21386519\n",
            " 4.98020461 4.9576386  4.81670463 5.45808593 5.40516957 5.22776237\n",
            " 4.66457082 4.94235635 6.70676371 5.38773946 4.67134584 4.8131749\n",
            " 5.45529103 4.87254016 4.59362312 4.75236474 4.39718117 4.71136158\n",
            " 5.58965398 4.37456263 4.84902188 4.87653148 4.31628735 4.70226084\n",
            " 5.22645747 4.91851878 5.13891317 4.8356652  5.3587681  5.06026165\n",
            " 5.42171176 5.11770749 5.3043894  5.48641183 4.5122806  5.38935851\n",
            " 5.74873692 4.46660014 5.55202065 5.78283986 5.11834712 4.61048829\n",
            " 4.77493054 4.5419535  5.13860599 4.01741587 4.34335162 5.43556682\n",
            " 5.09212962 4.68865477 5.11846572 5.19033732 5.02987033 3.8399221\n",
            " 4.53599833 4.44426948 5.35708948 4.53896624 4.37491409 4.57145338\n",
            " 6.51063019 5.81607475 4.73593057 5.17896887 6.15471976 4.87540806\n",
            " 4.79781505 5.41732409 4.86599765]\n"
          ]
        }
      ]
    },
    {
      "cell_type": "code",
      "source": [
        "from sklearn import metrics\n",
        "print(np.sqrt(metrics.mean_squared_error(y_test,y_pred_1)))"
      ],
      "metadata": {
        "colab": {
          "base_uri": "https://localhost:8080/"
        },
        "id": "sFE1FnqMvE0E",
        "outputId": "0d30d614-1eb8-4e82-d761-0bbb83348676"
      },
      "execution_count": 29,
      "outputs": [
        {
          "output_type": "stream",
          "name": "stdout",
          "text": [
            "0.8616572757800562\n"
          ]
        }
      ]
    },
    {
      "cell_type": "code",
      "source": [
        "x_train.shape"
      ],
      "metadata": {
        "colab": {
          "base_uri": "https://localhost:8080/"
        },
        "id": "JCuZaXEjvNmV",
        "outputId": "159710ef-6c2a-4dec-fe6b-3797ffc84edd"
      },
      "execution_count": 30,
      "outputs": [
        {
          "output_type": "execute_result",
          "data": {
            "text/plain": [
              "(271, 7)"
            ]
          },
          "metadata": {},
          "execution_count": 30
        }
      ]
    },
    {
      "cell_type": "code",
      "source": [
        "x_train[0]"
      ],
      "metadata": {
        "colab": {
          "base_uri": "https://localhost:8080/"
        },
        "id": "yjjCvpBJvT-k",
        "outputId": "b27df5cf-2336-41b4-9c94-fe0326820ca7"
      },
      "execution_count": 31,
      "outputs": [
        {
          "output_type": "execute_result",
          "data": {
            "text/plain": [
              "array([12.3, 62. , 21.5,  6. ,  0. ,  0. ,  0. ])"
            ]
          },
          "metadata": {},
          "execution_count": 31
        }
      ]
    },
    {
      "cell_type": "code",
      "source": [
        "import joblib\n",
        "joblib.dump(l,'model.save')"
      ],
      "metadata": {
        "colab": {
          "base_uri": "https://localhost:8080/"
        },
        "id": "m7vVkEwWvl44",
        "outputId": "2fa97c68-fb2d-40e6-c8bd-e788d00639e0"
      },
      "execution_count": 32,
      "outputs": [
        {
          "output_type": "execute_result",
          "data": {
            "text/plain": [
              "['model.save']"
            ]
          },
          "metadata": {},
          "execution_count": 32
        }
      ]
    }
  ]
}